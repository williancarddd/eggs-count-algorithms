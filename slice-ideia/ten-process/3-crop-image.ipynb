{
 "cells": [
  {
   "cell_type": "code",
   "metadata": {
    "ExecuteTime": {
     "end_time": "2024-10-29T22:08:32.807968Z",
     "start_time": "2024-10-29T22:08:32.797616Z"
    }
   },
   "source": [
    "\n",
    "import cv2\n",
    "import matplotlib.pyplot as plt\n",
    "from image_processor import ImageProcessor\n",
    "\n",
    "# Definir caminho para a imagem\n",
    "image_path = '/media/williancaddd/CODES/fiotec/AETrampa/Fotos/10__1ovos.jpg'\n",
    "\n",
    "# Processar imagem e contar objetos\n",
    "image_processor = ImageProcessor(image_path, show_stages=False)\n",
    "result, img_height, img_width = image_processor.divide_and_process_image()\n",
    "print(f\"Resultado do processamento: {result}\")\n",
    "\n",
    "# Reconstruir imagem processada\n",
    "reconstructed_image = image_processor.reconstruct_image(img_height, img_width)\n",
    "\n",
    "# Mostrar imagem original e reconstruída\n",
    "fig, axes = plt.subplots(1, 2, figsize=(20, 10))\n",
    "original_image = cv2.imread(image_path)\n",
    "axes[0].imshow(cv2.cvtColor(original_image, cv2.COLOR_BGR2RGB))\n",
    "axes[0].set_title('Imagem Original')\n",
    "\n",
    "axes[1].imshow(cv2.cvtColor(reconstructed_image, cv2.COLOR_BGR2RGB))\n",
    "axes[1].set_title('Imagem Reconstruída')\n",
    "\n",
    "plt.show()\n"
   ],
   "outputs": [
    {
     "ename": "ModuleNotFoundError",
     "evalue": "No module named 'image_processor'",
     "output_type": "error",
     "traceback": [
      "\u001B[0;31m---------------------------------------------------------------------------\u001B[0m",
      "\u001B[0;31mModuleNotFoundError\u001B[0m                       Traceback (most recent call last)",
      "Cell \u001B[0;32mIn[13], line 3\u001B[0m\n\u001B[1;32m      1\u001B[0m \u001B[38;5;28;01mimport\u001B[39;00m \u001B[38;5;21;01mcv2\u001B[39;00m\n\u001B[1;32m      2\u001B[0m \u001B[38;5;28;01mimport\u001B[39;00m \u001B[38;5;21;01mmatplotlib\u001B[39;00m\u001B[38;5;21;01m.\u001B[39;00m\u001B[38;5;21;01mpyplot\u001B[39;00m \u001B[38;5;28;01mas\u001B[39;00m \u001B[38;5;21;01mplt\u001B[39;00m\n\u001B[0;32m----> 3\u001B[0m \u001B[38;5;28;01mfrom\u001B[39;00m \u001B[38;5;21;01mimage_processor\u001B[39;00m \u001B[38;5;28;01mimport\u001B[39;00m ImageProcessor\n\u001B[1;32m      5\u001B[0m \u001B[38;5;66;03m# Definir caminho para a imagem\u001B[39;00m\n\u001B[1;32m      6\u001B[0m image_path \u001B[38;5;241m=\u001B[39m \u001B[38;5;124m'\u001B[39m\u001B[38;5;124m/media/williancaddd/CODES/fiotec/AETrampa/Fotos/10__1ovos.jpg\u001B[39m\u001B[38;5;124m'\u001B[39m\n",
      "\u001B[0;31mModuleNotFoundError\u001B[0m: No module named 'image_processor'"
     ]
    }
   ],
   "execution_count": 13
  },
  {
   "metadata": {
    "ExecuteTime": {
     "end_time": "2024-10-29T22:04:07.587175Z",
     "start_time": "2024-10-29T22:04:07.585313Z"
    }
   },
   "cell_type": "code",
   "source": "",
   "outputs": [],
   "execution_count": null
  },
  {
   "metadata": {},
   "cell_type": "code",
   "outputs": [],
   "execution_count": null,
   "source": ""
  }
 ],
 "metadata": {
  "kernelspec": {
   "display_name": "Python 3 (ipykernel)",
   "language": "python",
   "name": "python3"
  },
  "language_info": {
   "codemirror_mode": {
    "name": "ipython",
    "version": 3
   },
   "file_extension": ".py",
   "mimetype": "text/x-python",
   "name": "python",
   "nbconvert_exporter": "python",
   "pygments_lexer": "ipython3",
   "version": "3.12.7"
  }
 },
 "nbformat": 4,
 "nbformat_minor": 4
}
